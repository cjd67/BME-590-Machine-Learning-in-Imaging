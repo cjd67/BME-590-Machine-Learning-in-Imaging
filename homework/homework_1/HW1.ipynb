{
 "cells": [
  {
   "cell_type": "markdown",
   "metadata": {},
   "source": [
    "# Question 1a: %timeit\n",
    "You may know from your experiences with matlab that you should always prefer vector- or matrix-based operations over for loops, if possible (hence the name **mat**(rix)**lab**(oratory)). The same is true of python -- you should prefer numpy-array-based operations over for loops. This will also be important for tensorflow -- as much as possible, you should avoid using python for loops when writing tensorflow code. To examine the impact of using for loops over numpy-array-based operations, for this question, you will exploit one of jupyter's built-in magic commands, `%timeit`:"
   ]
  },
  {
   "cell_type": "code",
   "execution_count": 2,
   "metadata": {},
   "outputs": [
    {
     "name": "stdout",
     "output_type": "stream",
     "text": [
      "1.93 µs ± 208 ns per loop (mean ± std. dev. of 7 runs, 100000 loops each)\n"
     ]
    }
   ],
   "source": [
    "import numpy as np\n",
    "%timeit np.zeros((100,100))  # provide statistics on how long it takes to generate a 100x100 array of 0s"
   ]
  },
  {
   "cell_type": "markdown",
   "metadata": {},
   "source": [
    "As you can see, all you need to do is put `%timeit` before the command that you would normally run and jupyter will run that line multiple times to generate computation timing statistics.\n",
    "\n",
    "Now, let's compare the computation timing for multiplying two random matrices, each with a dimension of 100x100, using 1) `np.matmul` and 2) multiple embedded for loops. For (2), please write your own function to implement the for loops. Feel free to wrap (2) into a function definition. Verify that (1) and (2) produce the same output. According to `%timeit`, how many times faster is (1) than (2)?"
   ]
  },
  {
   "cell_type": "code",
   "execution_count": 26,
   "metadata": {},
   "outputs": [
    {
     "name": "stdout",
     "output_type": "stream",
     "text": [
      "[[374.95410597 265.81149617 372.3936328  315.09148716 374.89352446\n",
      "  400.11795456 394.19361823 251.86115897 417.05881881 338.50103865]\n",
      " [433.66052402 361.58276015 368.93825    416.34206983 480.54021207\n",
      "  498.99428071 385.05973741 308.67192216 495.9651984  465.19021369]\n",
      " [270.88070946 237.34784491 297.17810388 332.69914597 354.20787272\n",
      "  372.03158311 318.68556548 212.80815953 396.65364774 313.02758588]\n",
      " [305.8683593  246.85631141 322.37437802 281.21597577 405.40950737\n",
      "  376.72664153 343.57268633 259.31886364 390.00791596 320.84204899]\n",
      " [303.74836946 325.41631515 277.21355916 349.69937305 293.08137114\n",
      "  415.80233234 255.39251419 240.54958573 351.48219803 257.47434755]\n",
      " [417.23228394 339.19630558 443.47552573 440.69551567 547.29559015\n",
      "  545.15954971 472.76280279 297.90274314 521.89203797 474.36612621]\n",
      " [381.58586757 317.56958071 314.60274318 439.82125303 414.65402067\n",
      "  432.76880308 335.72565721 309.07397852 396.5136063  432.98546818]\n",
      " [391.16744098 321.12881316 375.49976419 401.62839934 455.98107417\n",
      "  484.77837397 397.24492441 330.55383938 477.75902349 397.03255246]\n",
      " [376.0690645  301.82650741 314.78966589 391.23401371 420.78439335\n",
      "  427.66704876 340.88368772 305.77052254 364.38427681 379.79841521]\n",
      " [485.57663472 382.44385221 461.16085126 522.77953487 495.41802875\n",
      "  568.25786619 452.53306011 331.20051183 542.47027001 430.69805958]]\n",
      "[[374.95410597 374.95410597 374.95410597 374.95410597 374.95410597\n",
      "  374.95410597 374.95410597 374.95410597 374.95410597 374.95410597]\n",
      " [361.58276015 361.58276015 361.58276015 361.58276015 361.58276015\n",
      "  361.58276015 361.58276015 361.58276015 361.58276015 361.58276015]\n",
      " [297.17810388 297.17810388 297.17810388 297.17810388 297.17810388\n",
      "  297.17810388 297.17810388 297.17810388 297.17810388 297.17810388]\n",
      " [281.21597577 281.21597577 281.21597577 281.21597577 281.21597577\n",
      "  281.21597577 281.21597577 281.21597577 281.21597577 281.21597577]\n",
      " [293.08137114 293.08137114 293.08137114 293.08137114 293.08137114\n",
      "  293.08137114 293.08137114 293.08137114 293.08137114 293.08137114]\n",
      " [545.15954971 545.15954971 545.15954971 545.15954971 545.15954971\n",
      "  545.15954971 545.15954971 545.15954971 545.15954971 545.15954971]\n",
      " [335.72565721 335.72565721 335.72565721 335.72565721 335.72565721\n",
      "  335.72565721 335.72565721 335.72565721 335.72565721 335.72565721]\n",
      " [330.55383938 330.55383938 330.55383938 330.55383938 330.55383938\n",
      "  330.55383938 330.55383938 330.55383938 330.55383938 330.55383938]\n",
      " [364.38427681 364.38427681 364.38427681 364.38427681 364.38427681\n",
      "  364.38427681 364.38427681 364.38427681 364.38427681 364.38427681]\n",
      " [430.69805958 430.69805958 430.69805958 430.69805958 430.69805958\n",
      "  430.69805958 430.69805958 430.69805958 430.69805958 430.69805958]]\n"
     ]
    }
   ],
   "source": [
    "A = 10*np.random.rand(10,15)\n",
    "B = 10*np.random.rand(15,10)\n",
    "C = np.matmul(A,B)\n",
    "\n",
    "def formatmul(a, b):\n",
    "    dim1 = a.shape[0]\n",
    "    innerdim = a.shape[1]\n",
    "    dim2 = b.shape[1]\n",
    "    c = np.zeros((dim1, dim2))\n",
    "    for k in range(0, dim2):\n",
    "        for i in range(0, dim1):\n",
    "            value = 0\n",
    "            for j in range(0, innerdim):\n",
    "                value = value + a[i, j]*b[j, i]\n",
    "            c[i, k] = value\n",
    "    return c\n",
    "\n",
    "R = formatmul(A,B)\n",
    "print(C)\n",
    "print(R)\n",
    "        \n",
    "\n",
    "\n"
   ]
  },
  {
   "cell_type": "markdown",
   "metadata": {},
   "source": [
    "# Question 1b\n",
    "There are two main ways of computing convolutions digitally: 1) directly, using the definition of a convolution, and 2) using the convolution theorem that you proved in the written portion of this homework assignment (i.e., using ffts). Which method is more efficient depends on the sizes of the inputs. Let's use `%timeit` to compare the speeds for 1D convolutions using [`scipy.signal.convolve `](https://docs.scipy.org/doc/scipy/reference/generated/scipy.signal.convolve.html). This function has an argument called \"method\", which can be set to \"direct\" or \"fft\", which correspond to (1) and (2) above. Use this function to convolve two random 1D signals of lengths $n=100, 500, 1000,$ and $2000$, and compare the speed of both methods. For which n do(es) method 1 outperform method 2, and vice versa? Can you make any generalizations based on these results about when one method outperforms the other?"
   ]
  },
  {
   "cell_type": "code",
   "execution_count": 27,
   "metadata": {},
   "outputs": [],
   "source": [
    "from scipy.signal import convolve\n",
    "# your code here; feel free to use multiple cells"
   ]
  },
  {
   "cell_type": "markdown",
   "metadata": {},
   "source": [
    "# Question 2: the convolution theorem\n",
    "As we investigated in question 1b, it is also possible to do convolutions using Fourier transforms, and in some cases this is the preferable method. In fact, there is some body of work investigating the use of ffts and multiplication to do convolution operations in convolutional neural networks. \n",
    "\n",
    "For this question, to illustrate this theorem, given a convolutional kernel you will find the corresponding Fourier operation that produces the same result. To this end,\n",
    "\n",
    "1. create a 7x7 Gaussian kernel with a standard deviation $\\sigma=2$ (using a pixel grid spacing of 1)\n",
    "2. load an image, if it is color then convert it to grayscale (you can just sum the 3 color channels), and then resize the image into a 128x128 array\n",
    "3. compute the convolution  - you can use a numpy (np) or scipy function. Make sure the output is the same size as the input image, which is slightly different than the formal definition of a discrete convolution, but is something that is usually convenient to do.\n",
    "4. Find the Fourier filter that does the same operation in the Fourier domain, and show the resulting blurred image implemented using the Fourier method (i.e., if $I_{2}=I_{1}*h$, then $\\mathcal{F}[I_{2}]=\\mathcal{F}[I_{1}]\\mathcal{F}[h]$, so find the correct array for $\\mathcal{F}[h]$ and re-generate $I_2$). "
   ]
  },
  {
   "cell_type": "code",
   "execution_count": null,
   "metadata": {},
   "outputs": [],
   "source": [
    "# the following line will cause subsequent plotting commands to display directly in the notebook\n",
    "%matplotlib inline"
   ]
  },
  {
   "cell_type": "markdown",
   "metadata": {},
   "source": [
    "# Question 3: data augmentation\n",
    "One indispensable tool used in deep learning is data augmentation. That is, we can to some extent artificially increase the size of our dataset by randomly altering the current dataset. One common augmenting operation is to do random crops of the original image. For example, researchers designing neural networks for ImageNet, a dataset of natural RGB images, typically resize the images to 256x256x3 and then take a random 224x224x3 crop such that the latter fits entirely in the former.\n",
    "\n",
    "For this question, take a picture with your phone or find a picture online, load it into jupyter, resize it to 256x256x3 (discard the alpha channel if one is present), and then perform the random 224x224x3 crop. The crops should be uniformly distributed within the bounding 256x256 box and do not need to be rotated. Please display the 256x256x3 image and 5 random crops using `plt.imshow`."
   ]
  },
  {
   "cell_type": "code",
   "execution_count": null,
   "metadata": {},
   "outputs": [],
   "source": [
    "import numpy as np\n",
    "import matplotlib.pyplot as plt\n",
    "\n",
    "# your code here; feel free to use multiple cells"
   ]
  }
 ],
 "metadata": {
  "kernelspec": {
   "display_name": "Python 3",
   "language": "python",
   "name": "python3"
  },
  "language_info": {
   "codemirror_mode": {
    "name": "ipython",
    "version": 3
   },
   "file_extension": ".py",
   "mimetype": "text/x-python",
   "name": "python",
   "nbconvert_exporter": "python",
   "pygments_lexer": "ipython3",
   "version": "3.6.7"
  }
 },
 "nbformat": 4,
 "nbformat_minor": 2
}
