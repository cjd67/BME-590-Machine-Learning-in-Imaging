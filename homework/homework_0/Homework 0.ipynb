{
 "cells": [
  {
   "cell_type": "markdown",
   "metadata": {},
   "source": [
    "# Introduction\n",
    "\n",
    "Demonstrate your skill of markdown  \n",
    "**[markdown cheat sheet](https://github.com/adam-p/markdown-here/wiki/Markdown-Cheatsheet)**\n"
   ]
  },
  {
   "cell_type": "markdown",
   "metadata": {},
   "source": [
    "### About me\n",
    "\n",
    "I'm a first year masters in BME student from western North Carolina. For my undergraduate degree I went to UNC Chapel Hill where I studied Biology and English. After graduating, I took two years off in which I hiked the Pacific Crest Trail, worked at a chocolate shop, and did some biology research. \n"
   ]
  },
  {
   "cell_type": "markdown",
   "metadata": {},
   "source": [
    "### My Hobbies Ranked\n",
    "\n",
    "1. Playing the violin\n",
    "2. Triathlons\n",
    "3. Baking"
   ]
  },
  {
   "cell_type": "markdown",
   "metadata": {},
   "source": [
    "```python\n",
    "def fibonacci(n):\n",
    "    # pseudo code printing the fibonacci sequence in markdown \n",
    "        fib = [0, 1]\n",
    "    for i in range(1, n):\n",
    "        a0 = fib[i - 1]\n",
    "        a1 = fib[i]\n",
    "        a2 = a0 + a1\n",
    "        fib.append(a2)\n",
    "    return fib\n",
    "```"
   ]
  },
  {
   "cell_type": "code",
   "execution_count": 28,
   "metadata": {},
   "outputs": [
    {
     "data": {
      "text/plain": [
       "[0, 1, 1, 2, 3, 5, 8, 13, 21, 34, 55]"
      ]
     },
     "execution_count": 28,
     "metadata": {},
     "output_type": "execute_result"
    }
   ],
   "source": [
    "# See if it works in python3 (doesn't have to)\n",
    "\n",
    "\n",
    "def fibonacci(n):\n",
    "    fib = [0, 1]\n",
    "    for i in range(1, n):\n",
    "        a0 = fib[i - 1]\n",
    "        a1 = fib[i]\n",
    "        a2 = a0 + a1\n",
    "        fib.append(a2)\n",
    "    return fib\n",
    "\n",
    "fibonacci(10)"
   ]
  },
  {
   "cell_type": "markdown",
   "metadata": {},
   "source": [
    "# Link your favorite Youtube video\n",
    "\n",
    "<a href=\"https://www.youtube.com/watch?v=eOjO4ekcJQA\n",
    "\" target=\"_blank\"><img src=\"http://img.youtube.com/vi/eOjO4ekcJQA/0.jpg\" \n",
    "alt=\"IMAGE ALT TEXT HERE\" width=\"240\" height=\"180\" border=\"10\" /></a>"
   ]
  }
 ],
 "metadata": {
  "kernelspec": {
   "display_name": "Python 3",
   "language": "python",
   "name": "python3"
  },
  "language_info": {
   "codemirror_mode": {
    "name": "ipython",
    "version": 3
   },
   "file_extension": ".py",
   "mimetype": "text/x-python",
   "name": "python",
   "nbconvert_exporter": "python",
   "pygments_lexer": "ipython3",
   "version": "3.6.7"
  }
 },
 "nbformat": 4,
 "nbformat_minor": 2
}
